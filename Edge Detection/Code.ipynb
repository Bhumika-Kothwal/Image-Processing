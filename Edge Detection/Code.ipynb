{
 "cells": [
  {
   "cell_type": "code",
   "execution_count": 75,
   "metadata": {},
   "outputs": [],
   "source": [
    "from PIL import Image\n",
    "import numpy as np\n",
    "import matplotlib.pyplot as plt"
   ]
  },
  {
   "cell_type": "code",
   "execution_count": 96,
   "metadata": {},
   "outputs": [],
   "source": [
    "# edge detection kernel\n",
    "vertical_edge_kernel = [[1, 0, -1],\n",
    "                        [2, 0, -2],\n",
    "                        [1, 0, -1]]\n",
    "\n",
    "horizontal_edge_kernel = [[-1, -2, -1],\n",
    "                          [ 0,  0,  0],\n",
    "                          [ 1,  2,  1]]\n",
    "\n",
    "edge_kernel = [[-1, -1, -1],\n",
    "               [-1,  8, -1],\n",
    "               [-1, -1, -1]]\n",
    "\n",
    "\n",
    "# Gaussian kernel\n",
    "gaussian_kernel = [[1 / 256, 4  / 256,  6 / 256,  4 / 256, 1 / 256],\n",
    "                   [4 / 256, 16 / 256, 24 / 256, 16 / 256, 4 / 256],\n",
    "                   [6 / 256, 24 / 256, 36 / 256, 24 / 256, 6 / 256],\n",
    "                   [4 / 256, 16 / 256, 24 / 256, 16 / 256, 4 / 256],\n",
    "                   [1 / 256, 4  / 256,  6 / 256,  4 / 256, 1 / 256]]\n"
   ]
  },
  {
   "cell_type": "markdown",
   "metadata": {},
   "source": [
    "## Function for Blurring Image"
   ]
  },
  {
   "cell_type": "code",
   "execution_count": 82,
   "metadata": {},
   "outputs": [],
   "source": [
    "def blur(input_image, kernel):\n",
    "    width = input_image.shape[0]\n",
    "    height = input_image.shape[1]\n",
    "    channel = input_image.shape[2]\n",
    "    \n",
    "    # Middle of the kernel\n",
    "    offset = len(kernel) // 2\n",
    "\n",
    "    # Create empty output array\n",
    "    output_image = np.empty((width,height,channel))\n",
    "\n",
    "    # Compute convolution between value and kernels\n",
    "    for x in range(offset, width - offset):\n",
    "        for y in range(offset, height - offset):\n",
    "            acc = [0] * channel\n",
    "            \n",
    "            for a in range(len(kernel)):\n",
    "                for b in range(len(kernel)):\n",
    "                    xn = x + a - offset\n",
    "                    yn = y + b - offset\n",
    "                    value = input_image[xn][yn]\n",
    "                    for c in  range(channel):\n",
    "                        acc[c] += value[c] * kernel[a][b]\n",
    "\n",
    "            for c in  range(channel):\n",
    "                output_image[x][y][c] = acc[c]\n",
    "    return output_image"
   ]
  },
  {
   "cell_type": "markdown",
   "metadata": {},
   "source": [
    "## Function for Edge-Detection"
   ]
  },
  {
   "cell_type": "code",
   "execution_count": 77,
   "metadata": {},
   "outputs": [],
   "source": [
    "def edge(input_image, kernel):\n",
    "    width = input_image.shape[0]\n",
    "    height = input_image.shape[1]\n",
    "    \n",
    "    # Middle of the kernel\n",
    "    offset = len(kernel) // 2\n",
    "\n",
    "    # Create empty output array\n",
    "    output_image = np.empty((width,height))\n",
    "    output_image.fill(0)\n",
    "    # Compute convolution between value and kernels\n",
    "    for x in range(offset, width - offset):\n",
    "        for y in range(offset, height - offset):\n",
    "            for a in range(len(kernel)):\n",
    "                for b in range(len(kernel)):\n",
    "                    xn = x + a - offset\n",
    "                    yn = y + b - offset\n",
    "                    value = input_image[xn][yn]\n",
    "                    output_image[x][y] += value * kernel[a][b]\n",
    "    return output_image"
   ]
  },
  {
   "cell_type": "markdown",
   "metadata": {},
   "source": [
    "## Loading and pre-processing image"
   ]
  },
  {
   "cell_type": "code",
   "execution_count": 97,
   "metadata": {},
   "outputs": [],
   "source": [
    "# Load input image\n",
    "color_img = np.array(Image.open(\"edge-detection2.jpg\"))\n",
    "# blurring the image using gaussian-blur kernel\n",
    "blurred = blur(color_img, gaussian_kernel)\n",
    "# converting color img to gray-scale\n",
    "gray_img = np.mean(blurred, axis=2)"
   ]
  },
  {
   "cell_type": "markdown",
   "metadata": {},
   "source": [
    "## Vertical Edge Detection"
   ]
  },
  {
   "cell_type": "code",
   "execution_count": 99,
   "metadata": {},
   "outputs": [],
   "source": [
    "v_edge = Image.fromarray(np.uint8(edge(gray_img, vertical_edge_kernel)))\n",
    "v_edge.save(\"v-edge.png\")"
   ]
  },
  {
   "cell_type": "markdown",
   "metadata": {},
   "source": [
    "## Horizontal Edge Detection"
   ]
  },
  {
   "cell_type": "code",
   "execution_count": 98,
   "metadata": {},
   "outputs": [],
   "source": [
    "h_edge = Image.fromarray(np.uint8(edge(gray_img, horizontal_edge_kernel)))\n",
    "h_edge.save(\"h-edge.png\")"
   ]
  }
 ],
 "metadata": {
  "kernelspec": {
   "display_name": "Python 3",
   "language": "python",
   "name": "python3"
  },
  "language_info": {
   "codemirror_mode": {
    "name": "ipython",
    "version": 3
   },
   "file_extension": ".py",
   "mimetype": "text/x-python",
   "name": "python",
   "nbconvert_exporter": "python",
   "pygments_lexer": "ipython3",
   "version": "3.5.2"
  }
 },
 "nbformat": 4,
 "nbformat_minor": 4
}
