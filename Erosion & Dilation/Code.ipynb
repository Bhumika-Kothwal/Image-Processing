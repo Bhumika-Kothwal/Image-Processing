{
 "cells": [
  {
   "cell_type": "markdown",
   "metadata": {},
   "source": [
    "## Erosion and Dilation"
   ]
  },
  {
   "cell_type": "code",
   "execution_count": null,
   "metadata": {},
   "outputs": [],
   "source": [
    "import matplotlib.pyplot as plt\n",
    "from PIL import Image\n",
    "import numpy as np\n",
    "import math\n",
    "\n",
    "def rgb2binary(colour_img):\n",
    "    thresh = 120\n",
    "    height = colour_img.shape[0]\n",
    "    width = colour_img.shape[1]\n",
    "    channel = colour_img.shape[2]\n",
    "    img_binary = np.zeros((height,width,channel))\n",
    "\n",
    "    # CALCULATE\n",
    "    for i in np.arange(height):\n",
    "        for j in np.arange(width):\n",
    "            for k in  np.arange(channel):\n",
    "                x = colour_img.item(i,j,k)\n",
    "                if x >= thresh:\n",
    "                    y = 1\n",
    "                else :\n",
    "                    y = 0\n",
    "                img_binary.itemset((i,j,k),int(y))\n",
    "                \n",
    "    return img_binary\n",
    "                \n",
    "def applyPadding(array):\n",
    "    new = np.ones((array.shape[0]+4,array.shape[1]+4,array.shape[2]),dtype = array.dtype)\n",
    "    for s in range(array.shape[2]):\n",
    "        for i in range(array.shape[0]):\n",
    "            for j in range(array.shape[1]):\n",
    "                new[i+2,j+2,s] = array[i,j,s]\n",
    "    return new\n",
    "\n",
    "\n",
    "def dilate(array):\n",
    "    height = array.shape[0]\n",
    "    width = array.shape[1]\n",
    "    channel = array.shape[2]\n",
    "    \n",
    "    kernel = np.ones((5,5))\n",
    "    sub_matrix = np.zeros((5,5))\n",
    "    \n",
    "    #output = array.copy()\n",
    "    output = np.zeros((height, width, channel))\n",
    "    padded = applyPadding(array)\n",
    "    \n",
    "    for c in range(channel):\n",
    "        for i in range(height):\n",
    "            for j in range(width):\n",
    "                erode = True\n",
    "                dilate = False\n",
    "                for x in range(kernel.shape[0]):\n",
    "                    for y in range(kernel.shape[1]):\n",
    "                        value = padded[i+x,j+y,c]\n",
    "                        if value == 1:\n",
    "                            dilate = True \n",
    "                            break\n",
    "                if dilate:\n",
    "                    output[i, j, c] = 1\n",
    "                else:\n",
    "                    output[i, j, c] = 0\n",
    "    return output\n",
    "\n",
    "def erode(array):\n",
    "    height = array.shape[0]\n",
    "    width = array.shape[1]\n",
    "    channel = array.shape[2]\n",
    "    \n",
    "    kernel = np.ones((5,5))\n",
    "    sub_matrix = np.zeros((5,5))\n",
    "    \n",
    "    #output = array.copy()\n",
    "    output = np.zeros((height, width, channel))\n",
    "    padded = applyPadding(array)\n",
    "    \n",
    "    for c in range(channel):\n",
    "        for i in range(height):\n",
    "            for j in range(width):\n",
    "                erode = True\n",
    "                for x in range(kernel.shape[0]):\n",
    "                    for y in range(kernel.shape[1]):\n",
    "                        value = padded[i+x,j+y,c]\n",
    "                        if kernel[x][y] == 1:\n",
    "                            if value == 0:\n",
    "                                erode = False\n",
    "                                break\n",
    "                                \n",
    "                if erode:\n",
    "                    output[i, j, c] = 1\n",
    "                else:\n",
    "                    output[i, j, c] = 0\n",
    "    return output\n"
   ]
  },
  {
   "cell_type": "markdown",
   "metadata": {},
   "source": [
    "## Edge Detection"
   ]
  },
  {
   "cell_type": "markdown",
   "metadata": {},
   "source": [
    "### Converting to GrayScale"
   ]
  },
  {
   "cell_type": "code",
   "execution_count": null,
   "metadata": {},
   "outputs": [],
   "source": [
    "# converting color img to gray-scale\n",
    "def gray_scale(img):\n",
    "    gray_img = np.zeros((img.shape[0], img.shape[1]))\n",
    "    for i in range(img.shape[0]):\n",
    "        for j in range(img.shape[1]):\n",
    "            '''average = 0\n",
    "            for k in range(img.shape[2]):\n",
    "                average += img[i][j][k] \n",
    "            gray_img[i][j] = average//3'''\n",
    "            gray_img[i][j] = (img[i][j][0] + img[i][j][1]+ img[i][j][2])//3\n",
    "            \n",
    "    return gray_img"
   ]
  },
  {
   "cell_type": "markdown",
   "metadata": {},
   "source": [
    "### Applying Kernel"
   ]
  },
  {
   "cell_type": "code",
   "execution_count": null,
   "metadata": {},
   "outputs": [],
   "source": [
    "def kernel_app(input_image, kernel):\n",
    "    width = input_image.shape[0]\n",
    "    height = input_image.shape[1]\n",
    "    \n",
    "    # Middle of the kernel\n",
    "    offset = len(kernel) // 2\n",
    "\n",
    "    # Create empty output array\n",
    "    output_image = np.empty((width,height))\n",
    "    output_image.fill(0)\n",
    "    # Compute convolution between value and kernels\n",
    "    for x in range(offset, width - offset):\n",
    "        for y in range(offset, height - offset):\n",
    "            for a in range(len(kernel)):\n",
    "                for b in range(len(kernel)):\n",
    "                    xn = x + a - offset\n",
    "                    yn = y + b - offset\n",
    "                    value = input_image[xn][yn]\n",
    "                    output_image[x][y] += value * kernel[a][b]\n",
    "    return output_image"
   ]
  },
  {
   "cell_type": "markdown",
   "metadata": {},
   "source": [
    "### Gaussian Blur"
   ]
  },
  {
   "cell_type": "code",
   "execution_count": null,
   "metadata": {},
   "outputs": [],
   "source": [
    "def blur(input_image):\n",
    "    ## Gaussian kernel\n",
    "    gaussian_kernel = [[1 / 256, 4  / 256,  6 / 256,  4 / 256, 1 / 256],\n",
    "                       [4 / 256, 16 / 256, 24 / 256, 16 / 256, 4 / 256],\n",
    "                       [6 / 256, 24 / 256, 36 / 256, 24 / 256, 6 / 256],\n",
    "                       [4 / 256, 16 / 256, 24 / 256, 16 / 256, 4 / 256],\n",
    "                       [1 / 256, 4  / 256,  6 / 256,  4 / 256, 1 / 256]]\n",
    "\n",
    "    output_image = kernel_app(input_image, gaussian_kernel)\n",
    "    return output_image\n"
   ]
  },
  {
   "cell_type": "markdown",
   "metadata": {},
   "source": [
    "### Sobel edge detection operator"
   ]
  },
  {
   "cell_type": "code",
   "execution_count": null,
   "metadata": {},
   "outputs": [],
   "source": [
    "def edge(input_image):\n",
    "    img = gray_scale(input_image)\n",
    "    img = blur(img)\n",
    "    sobel_xkernel = [[ -1, 0, 1],\n",
    "                     [ -2, 0, 2],\n",
    "                     [ -1, 0, 1]]\n",
    "\n",
    "    sobel_ykernel = [[-1 ,-2 ,-1],\n",
    "                     [ 0 , 0 , 0],\n",
    "                     [ 1 , 2 , 1]]\n",
    "\n",
    "    sobel_x = kernel_app(img, sobel_xkernel)\n",
    "    sobel_y = kernel_app(img, sobel_ykernel)\n",
    "    output_image = np.empty((sobel_x.shape[0], sobel_x.shape[1]))\n",
    "    for i in range(sobel_x.shape[0]):\n",
    "        for j in range(sobel_x.shape[1]):\n",
    "            output_image[i][j] = math.sqrt(sobel_x[i][j]**2 + sobel_y[i][j]**2)\n",
    "    return output_image"
   ]
  },
  {
   "cell_type": "markdown",
   "metadata": {},
   "source": [
    "## Loading Image and Converting into Binary image"
   ]
  },
  {
   "cell_type": "code",
   "execution_count": null,
   "metadata": {},
   "outputs": [],
   "source": [
    "# input image convertion to numpy array\n",
    "image = np.array(Image.open('morphological.png'))\n",
    "# coonverting the colour image array to binary array\n",
    "img_binary = rgb2binary(image)\n",
    "plt.imshow(img_binary)\n",
    "plt.show()"
   ]
  },
  {
   "cell_type": "markdown",
   "metadata": {},
   "source": [
    "## Dilation"
   ]
  },
  {
   "cell_type": "code",
   "execution_count": null,
   "metadata": {},
   "outputs": [],
   "source": [
    "dilation = dilate(img_binary)\n",
    "plt.imshow(dilation)\n",
    "plt.show()\n",
    "d = Image.fromarray(np.uint8(dilation*255)).convert(\"RGB\")\n",
    "d.save(\"Dilation.png\")"
   ]
  },
  {
   "cell_type": "markdown",
   "metadata": {},
   "source": [
    "## Erosion"
   ]
  },
  {
   "cell_type": "code",
   "execution_count": null,
   "metadata": {},
   "outputs": [],
   "source": [
    "erosion = erode(img_binary)\n",
    "plt.imshow(erosion)\n",
    "plt.show()\n",
    "e = Image.fromarray(np.uint8(erosion*255))\n",
    "e.save(\"Erosion.png\")"
   ]
  },
  {
   "cell_type": "markdown",
   "metadata": {},
   "source": [
    "## Edge Detection"
   ]
  },
  {
   "cell_type": "code",
   "execution_count": null,
   "metadata": {},
   "outputs": [],
   "source": [
    "# Load input image\n",
    "img = np.array(Image.open(\"Dilation.png\"))\n",
    "\n",
    "edge_detection = edge(img)\n",
    "edge_detection = Image.fromarray(np.uint8(edge_detection))\n",
    "edge_detection.save(\"Edge-Detection.png\")"
   ]
  }
 ],
 "metadata": {
  "kernelspec": {
   "display_name": "Python 3.5.2 64-bit",
   "language": "python",
   "name": "python35264bitaa005c2fc2c34d758049473a254b057e"
  },
  "language_info": {
   "codemirror_mode": {
    "name": "ipython",
    "version": 3
   },
   "file_extension": ".py",
   "mimetype": "text/x-python",
   "name": "python",
   "nbconvert_exporter": "python",
   "pygments_lexer": "ipython3",
   "version": "3.5.2"
  }
 },
 "nbformat": 4,
 "nbformat_minor": 4
}
