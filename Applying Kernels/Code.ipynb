{
 "cells": [
  {
   "cell_type": "code",
   "execution_count": 21,
   "metadata": {},
   "outputs": [],
   "source": [
    "from PIL import Image\n",
    "import numpy as np\n",
    "import matplotlib.pyplot as plt"
   ]
  },
  {
   "cell_type": "markdown",
   "metadata": {},
   "source": [
    "## Box Blur"
   ]
  },
  {
   "cell_type": "code",
   "execution_count": 22,
   "metadata": {},
   "outputs": [],
   "source": [
    "# Box Blur kernel\n",
    "box_kernel = [[1 / 25, 1 / 25, 1 / 25, 1 / 25, 1 / 25],\n",
    "              [1 / 25, 1 / 25, 1 / 25, 1 / 25, 1 / 25],\n",
    "              [1 / 25, 1 / 25, 1 / 25, 1 / 25, 1 / 25],\n",
    "              [1 / 25, 1 / 25, 1 / 25, 1 / 25, 1 / 25],\n",
    "              [1 / 25, 1 / 25, 1 / 25, 1 / 25, 1 / 25]]"
   ]
  },
  {
   "cell_type": "markdown",
   "metadata": {},
   "source": [
    "## Gaussian Blur"
   ]
  },
  {
   "cell_type": "code",
   "execution_count": 23,
   "metadata": {},
   "outputs": [],
   "source": [
    "# Gaussian kernel\n",
    "gaussian_kernel = [[1 / 256, 4  / 256,  6 / 256,  4 / 256, 1 / 256],\n",
    "                   [4 / 256, 16 / 256, 24 / 256, 16 / 256, 4 / 256],\n",
    "                   [6 / 256, 24 / 256, 36 / 256, 24 / 256, 6 / 256],\n",
    "                   [4 / 256, 16 / 256, 24 / 256, 16 / 256, 4 / 256],\n",
    "                   [1 / 256, 4  / 256,  6 / 256,  4 / 256, 1 / 256]]"
   ]
  },
  {
   "cell_type": "markdown",
   "metadata": {},
   "source": [
    "## Sharpening"
   ]
  },
  {
   "cell_type": "code",
   "execution_count": 24,
   "metadata": {},
   "outputs": [],
   "source": [
    "#sharpening kernel\n",
    "sharpening_kernel = [[-1 / 256, -4  / 256,  -6 / 256,  -4 / 256, -1 / 256],\n",
    "                     [-4 / 256, -16 / 256, -24 / 256, -16 / 256, -4 / 256],\n",
    "                     [-6 / 256, -24 / 256, 476 / 256, -24 / 256, -6 / 256],\n",
    "                     [-4 / 256, -16 / 256, -24 / 256, -16 / 256, -4 / 256],\n",
    "                     [-1 / 256, -4  / 256,  -6 / 256,  -4 / 256, -1 / 256]]"
   ]
  },
  {
   "cell_type": "markdown",
   "metadata": {},
   "source": [
    "## Computing blurred image output array"
   ]
  },
  {
   "cell_type": "code",
   "execution_count": 25,
   "metadata": {},
   "outputs": [],
   "source": [
    "def convert(input_image, kernel):\n",
    "    width = input_image.shape[0]\n",
    "    height = input_image.shape[1]\n",
    "    channel = input_image.shape[2]\n",
    "    \n",
    "    # Middle of the kernel\n",
    "    offset = len(kernel) // 2\n",
    "\n",
    "    # Create empty output array\n",
    "    output_image = np.empty((width,height,channel))\n",
    "\n",
    "    # Compute convolution between value and kernels\n",
    "    for x in range(offset, width - offset):\n",
    "        for y in range(offset, height - offset):\n",
    "            acc = [0] * channel\n",
    "            \n",
    "            for a in range(len(kernel)):\n",
    "                for b in range(len(kernel)):\n",
    "                    xn = x + a - offset\n",
    "                    yn = y + b - offset\n",
    "                    value = input_image[xn][yn]\n",
    "                    for c in  range(channel):\n",
    "                        acc[c] += value[c] * kernel[a][b]\n",
    "\n",
    "            for c in  range(channel):\n",
    "                output_image[x][y][c] = acc[c]\n",
    "    return output_image"
   ]
  },
  {
   "cell_type": "markdown",
   "metadata": {},
   "source": [
    "## Main function"
   ]
  },
  {
   "cell_type": "markdown",
   "metadata": {},
   "source": [
    " **Blur**"
   ]
  },
  {
   "cell_type": "code",
   "execution_count": 26,
   "metadata": {},
   "outputs": [],
   "source": [
    "# Load image:\n",
    "image = np.array(Image.open(\"blur_input.jpeg\"))\n",
    "box_blur = Image.fromarray(np.uint8(convert(image, box_kernel)))\n",
    "gaussian_blur = Image.fromarray(np.uint8(convert(image, gaussian_kernel)))\n",
    "box_blur.save(\"box_blur.png\")\n",
    "gaussian_blur.save(\"gaussian_blur.png\")"
   ]
  },
  {
   "cell_type": "markdown",
   "metadata": {},
   "source": [
    "**Sharpen**"
   ]
  },
  {
   "cell_type": "code",
   "execution_count": 27,
   "metadata": {},
   "outputs": [],
   "source": [
    "# Load image\n",
    "image = np.array(Image.open(\"sharpen_input.png\"))\n",
    "sharpen = Image.fromarray(np.uint8(convert(image, sharpening_kernel)))\n",
    "sharpen.save(\"sharpen_output.png\")"
   ]
  },
  {
   "cell_type": "code",
   "execution_count": null,
   "metadata": {},
   "outputs": [],
   "source": []
  }
 ],
 "metadata": {
  "kernelspec": {
   "display_name": "Python 3.5.2 64-bit",
   "language": "python",
   "name": "python35264bitaa005c2fc2c34d758049473a254b057e"
  },
  "language_info": {
   "codemirror_mode": {
    "name": "ipython",
    "version": 3
   },
   "file_extension": ".py",
   "mimetype": "text/x-python",
   "name": "python",
   "nbconvert_exporter": "python",
   "pygments_lexer": "ipython3",
   "version": "3.5.2"
  }
 },
 "nbformat": 4,
 "nbformat_minor": 4
}
