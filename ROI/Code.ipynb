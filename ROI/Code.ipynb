{
 "cells": [
  {
   "cell_type": "code",
   "execution_count": 99,
   "metadata": {},
   "outputs": [],
   "source": [
    "import numpy as np\n",
    "from PIL import Image"
   ]
  },
  {
   "cell_type": "code",
   "execution_count": 100,
   "metadata": {},
   "outputs": [],
   "source": [
    "def invert_channel(img):\n",
    "    bgr = img.copy()\n",
    "    # to convert from RGB to BGR\n",
    "    for i in range(img.shape[0]):\n",
    "        for j in range(img.shape[1]):\n",
    "            bgr[i][j][2] = img[i][j][0]\n",
    "            bgr[i][j][1] = img[i][j][1]\n",
    "            bgr[i][j][0] = img[i][j][2]\n",
    "    return bgr"
   ]
  },
  {
   "cell_type": "code",
   "execution_count": 101,
   "metadata": {},
   "outputs": [],
   "source": [
    "def color2gray(colour_img):\n",
    "    r, g, b = colour_img[:,:,0], colour_img[:,:,1], colour_img[:,:,2]\n",
    "    gray_img = 0.2989 * r + 0.5870 * g + 0.1140 * b\n",
    "    return gray_img"
   ]
  },
  {
   "cell_type": "code",
   "execution_count": 102,
   "metadata": {},
   "outputs": [],
   "source": [
    "def threshold(img, thresh, value, else_value):   \n",
    "    new = np.empty((img.shape[0], img.shape[1], 3), dtype=np.uint8)\n",
    "    \n",
    "    for x in range(img.shape[0]):\n",
    "        for y in range(img.shape[1]):\n",
    "            if img[x,y] > thresh:\n",
    "                new[x,y, :] = value\n",
    "            else:\n",
    "                new[x,y, :] = else_value\n",
    "    return new"
   ]
  },
  {
   "cell_type": "code",
   "execution_count": 106,
   "metadata": {},
   "outputs": [],
   "source": [
    "img1 = np.array(Image.open('roi.jpg'))\n",
    "# extracting the ball region\n",
    "img2 = img1[880:1040, 1030:1190,:]\n",
    "# converting the image from rgb to bgr\n",
    "img1 = invert_channel(img1)\n",
    "img2 = invert_channel(img2)\n",
    "# Region in img1 where i want to put the ball image\n",
    "r, w, c = img2.shape\n",
    "roi_start_x = 855\n",
    "roi_start_y = 220\n",
    "roi = img1[roi_start_x:roi_start_x+r, roi_start_y:roi_start_y+w, :]\n",
    "\n",
    "#gray = cv.cvtColor(img2,cv.COLOR_BGR2GRAY)\n",
    "gray = color2gray(img2)\n",
    "mask_body = threshold(gray, 120, 255, 0)\n",
    "mask_design = threshold(gray, 100, 0, 255)\n",
    "mask = np.bitwise_or(mask_design, mask_body)\n",
    "\n",
    "mask_inv = np.bitwise_not(mask)\n",
    "\n",
    "# Now black-out the area of logo in ROI\n",
    "img1_bg = np.bitwise_and(roi, mask_inv)\n",
    "\n",
    "# Take only region of logo from logo image.\n",
    "img2_fg = np.bitwise_and(img2, mask)\n",
    "\n",
    "# Put logo in ROI and modify the main image\n",
    "merged = np.bitwise_or(img1_bg, img2_fg)\n",
    "img1[roi_start_x:roi_start_x+r, roi_start_y:roi_start_y+w, :] = merged\n",
    "\n",
    "# converting the image from bgr to rgb\n",
    "final = invert_channel(img1)\n",
    "final = Image.fromarray(np.uint8(final))\n",
    "final.save(\"ROI-output.png\")\n",
    "final.show()"
   ]
  },
  {
   "cell_type": "code",
   "execution_count": null,
   "metadata": {},
   "outputs": [],
   "source": []
  }
 ],
 "metadata": {
  "kernelspec": {
   "display_name": "Python 3.5.2 64-bit",
   "language": "python",
   "name": "python35264bitaa005c2fc2c34d758049473a254b057e"
  },
  "language_info": {
   "codemirror_mode": {
    "name": "ipython",
    "version": 3
   },
   "file_extension": ".py",
   "mimetype": "text/x-python",
   "name": "python",
   "nbconvert_exporter": "python",
   "pygments_lexer": "ipython3",
   "version": "3.5.2"
  }
 },
 "nbformat": 4,
 "nbformat_minor": 4
}
