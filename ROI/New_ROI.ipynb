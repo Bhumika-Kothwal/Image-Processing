{
 "cells": [
  {
   "cell_type": "code",
   "execution_count": 131,
   "metadata": {},
   "outputs": [],
   "source": [
    "import numpy as np\n",
    "from PIL import Image\n",
    "import matplotlib.pyplot as plt\n",
    "import cv2 as cv"
   ]
  },
  {
   "cell_type": "code",
   "execution_count": 132,
   "metadata": {},
   "outputs": [],
   "source": [
    "def in_Range(hsv, lower_range, upper_range):\n",
    "    height = hsv.shape[0]\n",
    "    width = hsv.shape[1]\n",
    "    channel = hsv.shape[2]\n",
    "    l1, l2, l3 = lower_range\n",
    "    u1, u2, u3 = upper_range\n",
    "    mask = hsv.copy()\n",
    "    for i in range(height):\n",
    "        for j in range(width):\n",
    "            if hsv[i][j][0] >= l1 and hsv[i][j][1] >= l2 and hsv[i][j][2] >= l3 and hsv[i][j][0] <= u1 and hsv[i][j][1] <= u2 and hsv[i][j][2] <= u3:\n",
    "                    mask[i][j][:] = 0\n",
    "    return mask"
   ]
  },
  {
   "cell_type": "code",
   "execution_count": 150,
   "metadata": {},
   "outputs": [],
   "source": [
    "def invert_channel(img):\n",
    "    bgr = img.copy()\n",
    "    # to convert from RGB to BGR\n",
    "    for i in range(img.shape[0]):\n",
    "        for j in range(img.shape[1]):\n",
    "            bgr[i][j][2] = img[i][j][0]\n",
    "            bgr[i][j][1] = img[i][j][1]\n",
    "            bgr[i][j][0] = img[i][j][2]\n",
    "    return bgr"
   ]
  },
  {
   "cell_type": "code",
   "execution_count": 134,
   "metadata": {},
   "outputs": [],
   "source": [
    "def threshold(img, thresh, value):   \n",
    "    new = np.empty((img.shape[0], img.shape[1], 3), dtype=np.uint8)\n",
    "    \n",
    "    for x in range(img.shape[0]):\n",
    "        for y in range(img.shape[1]):\n",
    "            if img[x,y] > thresh:\n",
    "                new[x,y, :] = value\n",
    "            else:\n",
    "                new[x,y, :] = 0\n",
    "    return new"
   ]
  },
  {
   "cell_type": "code",
   "execution_count": 135,
   "metadata": {},
   "outputs": [],
   "source": [
    "img1 = np.array(Image.open('roi.jpg'))\n",
    "img1 = invert_channel(img1)\n",
    "img2 = np.array(Image.open('ball.jpg'))\n",
    "img2 = invert_channel(img2)\n",
    "# Region in img1 where i want to put the ball image\n",
    "r, w, c = img2.shape\n",
    "roi_start_x = 855\n",
    "roi_start_y = 220\n",
    "roi = img1[roi_start_x:roi_start_x+r, roi_start_y:roi_start_y+w, :]\n",
    "\n",
    "mask_body = cv.cvtColor(img2,cv.COLOR_BGR2GRAY)\n",
    "mask_body = threshold(mask_body, 165, 255)\n",
    "\n",
    "mask_inv_body = np.bitwise_not(mask_body)\n",
    "\n",
    "# Now black-out the area of logo in ROI\n",
    "img1_bg = np.bitwise_and(roi, mask_inv_body)\n",
    "\n",
    "# Take only region of logo from logo image.\n",
    "img2_fg = np.bitwise_and(img2, mask_body)"
   ]
  },
  {
   "cell_type": "code",
   "execution_count": 136,
   "metadata": {},
   "outputs": [],
   "source": [
    "mask_img = Image.fromarray(mask_body)\n",
    "mask_img.show()"
   ]
  },
  {
   "cell_type": "code",
   "execution_count": 137,
   "metadata": {},
   "outputs": [],
   "source": [
    "front_img = Image.fromarray(np.uint8(img2_fg))\n",
    "front_img.show()"
   ]
  },
  {
   "cell_type": "code",
   "execution_count": 138,
   "metadata": {},
   "outputs": [],
   "source": [
    "bg_img = Image.fromarray(np.uint8(img1_bg))\n",
    "bg_img.show()"
   ]
  },
  {
   "cell_type": "code",
   "execution_count": 148,
   "metadata": {},
   "outputs": [],
   "source": [
    "# Put logo in ROI and modify the main image\n",
    "# dst = cv.add(img1_bg,img2_fg)\n",
    "dst = np.bitwise_or(img1_bg, img2_fg)\n",
    "dst_img = Image.fromarray(np.uint8(dst))\n",
    "dst_img.show()"
   ]
  },
  {
   "cell_type": "code",
   "execution_count": 154,
   "metadata": {},
   "outputs": [],
   "source": [
    "img1[roi_start_x:roi_start_x+r, roi_start_y:roi_start_y+w, :] = dst\n",
    "final = invert_channel(img1)\n",
    "final = Image.fromarray(np.uint8(final))\n",
    "final.show()"
   ]
  },
  {
   "cell_type": "code",
   "execution_count": null,
   "metadata": {},
   "outputs": [],
   "source": []
  }
 ],
 "metadata": {
  "kernelspec": {
   "display_name": "Python 3.5.2 64-bit",
   "language": "python",
   "name": "python35264bitaa005c2fc2c34d758049473a254b057e"
  },
  "language_info": {
   "codemirror_mode": {
    "name": "ipython",
    "version": 3
   },
   "file_extension": ".py",
   "mimetype": "text/x-python",
   "name": "python",
   "nbconvert_exporter": "python",
   "pygments_lexer": "ipython3",
   "version": "3.5.2"
  }
 },
 "nbformat": 4,
 "nbformat_minor": 4
}
