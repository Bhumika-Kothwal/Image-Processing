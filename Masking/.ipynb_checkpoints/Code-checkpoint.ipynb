{
 "cells": [
  {
   "cell_type": "code",
   "execution_count": 1,
   "metadata": {},
   "outputs": [],
   "source": [
    "import numpy as np\n",
    "from PIL import Image\n",
    "import matplotlib.pyplot as plt\n",
    "import cv2"
   ]
  },
  {
   "cell_type": "code",
   "execution_count": 2,
   "metadata": {},
   "outputs": [],
   "source": [
    "def in_Range(hsv, lower_range, upper_range):\n",
    "    height = hsv.shape[0]\n",
    "    width = hsv.shape[1]\n",
    "    channel = hsv.shape[2]\n",
    "    l1, l2, l3 = lower_range\n",
    "    u1, u2, u3 = upper_range\n",
    "    mask = np.zeros((height,width,channel), dtype=np.uint8)\n",
    "    for i in range(height):\n",
    "        for j in range(width):\n",
    "            if hsv[i][j][0] >= l1 and hsv[i][j][1] >= l2 and hsv[i][j][2] >= l3 and hsv[i][j][0] <= u1 and hsv[i][j][1] <= u2 and hsv[i][j][2] <= u3:\n",
    "                    mask[i][j][0] = hsv[i][j][0]\n",
    "                    mask[i][j][1] = hsv[i][j][1]\n",
    "                    mask[i][j][2] = hsv[i][j][2]\n",
    "                    \n",
    "    \n",
    "    return mask"
   ]
  },
  {
   "cell_type": "code",
   "execution_count": 3,
   "metadata": {},
   "outputs": [],
   "source": [
    "def bitwise_and(img, mask):\n",
    "    #output = np.empty((img.shape[0], img.shape[1], img.shape[2]))\n",
    "    output = np.bitwise_and( mask, img)\n",
    "    return output"
   ]
  },
  {
   "cell_type": "code",
   "execution_count": 4,
   "metadata": {},
   "outputs": [
    {
     "ename": "NameError",
     "evalue": "name 'plt' is not defined",
     "output_type": "error",
     "traceback": [
      "\u001b[0;31m---------------------------------------------------------------------------\u001b[0m",
      "\u001b[0;31mNameError\u001b[0m                                 Traceback (most recent call last)",
      "\u001b[0;32m<ipython-input-4-4feee1e88573>\u001b[0m in \u001b[0;36m<module>\u001b[0;34m\u001b[0m\n\u001b[1;32m      1\u001b[0m \u001b[0mimg\u001b[0m \u001b[0;34m=\u001b[0m \u001b[0mnp\u001b[0m\u001b[0;34m.\u001b[0m\u001b[0marray\u001b[0m\u001b[0;34m(\u001b[0m\u001b[0mImage\u001b[0m\u001b[0;34m.\u001b[0m\u001b[0mopen\u001b[0m\u001b[0;34m(\u001b[0m\u001b[0;34m\"mask.jpg\"\u001b[0m\u001b[0;34m)\u001b[0m\u001b[0;34m)\u001b[0m\u001b[0;34m\u001b[0m\u001b[0m\n\u001b[0;32m----> 2\u001b[0;31m \u001b[0mplt\u001b[0m\u001b[0;34m.\u001b[0m\u001b[0mimshow\u001b[0m\u001b[0;34m(\u001b[0m\u001b[0mimg\u001b[0m\u001b[0;34m)\u001b[0m\u001b[0;34m\u001b[0m\u001b[0m\n\u001b[0m\u001b[1;32m      3\u001b[0m \u001b[0mplt\u001b[0m\u001b[0;34m.\u001b[0m\u001b[0mshow\u001b[0m\u001b[0;34m(\u001b[0m\u001b[0;34m)\u001b[0m\u001b[0;34m\u001b[0m\u001b[0m\n\u001b[1;32m      4\u001b[0m \u001b[0mbgr\u001b[0m \u001b[0;34m=\u001b[0m \u001b[0mimg\u001b[0m\u001b[0;34m.\u001b[0m\u001b[0mcopy\u001b[0m\u001b[0;34m(\u001b[0m\u001b[0;34m)\u001b[0m\u001b[0;34m\u001b[0m\u001b[0m\n\u001b[1;32m      5\u001b[0m \u001b[0;31m# to convert from RGB to BGR\u001b[0m\u001b[0;34m\u001b[0m\u001b[0;34m\u001b[0m\u001b[0m\n",
      "\u001b[0;31mNameError\u001b[0m: name 'plt' is not defined"
     ]
    }
   ],
   "source": [
    "img = np.array(Image.open(\"mask.jpg\"))\n",
    "plt.imshow(img)\n",
    "plt.show()\n",
    "bgr = img.copy()\n",
    "# to convert from RGB to BGR\n",
    "for i in range(img.shape[0]):\n",
    "    for j in range(img.shape[1]):\n",
    "        bgr[i][j][2] = img[i][j][0]\n",
    "        bgr[i][j][1] = img[i][j][1]\n",
    "        bgr[i][j][0] = img[i][j][2]\n",
    "        \n",
    "hsv = cv2.cvtColor(bgr, cv2.COLOR_BGR2HSV)\n",
    "\n",
    "# specifying range for blue colour which we want to detect\n",
    "lower_range = np.array([105,33,33])\n",
    "upper_range = np.array([140,255,255])\n",
    "\n",
    "mask = in_Range(hsv, lower_range, upper_range)\n",
    "\n",
    "output = np.bitwise_and(img, mask)\n",
    "plt.imshow(output)\n",
    "plt.show()\n",
    "output = Image.fromarray(np.uint8(output))\n",
    "output.save(\"Blue Ball Detected.png\")"
   ]
  },
  {
   "cell_type": "code",
   "execution_count": null,
   "metadata": {},
   "outputs": [],
   "source": []
  }
 ],
 "metadata": {
  "kernelspec": {
   "display_name": "Python 3.5.2 64-bit",
   "language": "python",
   "name": "python35264bitaa005c2fc2c34d758049473a254b057e"
  },
  "language_info": {
   "codemirror_mode": {
    "name": "ipython",
    "version": 3
   },
   "file_extension": ".py",
   "mimetype": "text/x-python",
   "name": "python",
   "nbconvert_exporter": "python",
   "pygments_lexer": "ipython3",
   "version": "3.5.2"
  }
 },
 "nbformat": 4,
 "nbformat_minor": 4
}
