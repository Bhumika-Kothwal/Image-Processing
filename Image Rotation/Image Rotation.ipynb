{
 "cells": [
  {
   "cell_type": "code",
   "execution_count": 6,
   "metadata": {},
   "outputs": [],
   "source": [
    "from PIL import Image\n",
    "import numpy as np"
   ]
  },
  {
   "cell_type": "code",
   "execution_count": 19,
   "metadata": {},
   "outputs": [],
   "source": [
    "# rotation using PIL module\n",
    "image = Image.open(\"rotate.png\")\n",
    "image.show()\n",
    "\n",
    "rotate_90 = image.rotate(90)\n",
    "rotate_90.show()\n",
    "\n",
    "rotate_180 = image.rotate(180)\n",
    "rotate_180.show()"
   ]
  },
  {
   "cell_type": "code",
   "execution_count": 29,
   "metadata": {},
   "outputs": [
    {
     "name": "stdout",
     "output_type": "stream",
     "text": [
      "image 3D array =  (322, 600, 4)\n",
      "<class 'numpy.ndarray'>\n",
      "90 degree rotated 3D array =  (600, 322, 4)\n",
      "<class 'numpy.ndarray'>\n",
      "180 degree rotated 3D array =  (322, 600, 4)\n",
      "<class 'numpy.ndarray'>\n"
     ]
    }
   ],
   "source": [
    "# rotation using numpy module\n",
    "im_array = np.array(Image.open('rotate.png'))\n",
    "print(\"image 3D array = \" , im_array.shape)\n",
    "print(type(im_array))\n",
    "\n",
    "rotate_90 = np.rot90(image)\n",
    "print(\"90 degree rotated 3D array = \", rotate_90.shape)\n",
    "print(type(rotate_90))\n",
    "rotate_90 = Image.fromarray(rotate_90)\n",
    "rotate_90.show()\n",
    "\n",
    "rotate_180 = np.rot90(rotate_90)\n",
    "print(\"180 degree rotated 3D array = \", rotate_180.shape)\n",
    "print(type(rotate_180))\n",
    "rotate_180 = Image.fromarray(rotate_180)\n",
    "rotate_180.show()"
   ]
  },
  {
   "cell_type": "code",
   "execution_count": null,
   "metadata": {},
   "outputs": [],
   "source": []
  }
 ],
 "metadata": {
  "kernelspec": {
   "display_name": "Python 3",
   "language": "python",
   "name": "python3"
  },
  "language_info": {
   "codemirror_mode": {
    "name": "ipython",
    "version": 3
   },
   "file_extension": ".py",
   "mimetype": "text/x-python",
   "name": "python",
   "nbconvert_exporter": "python",
   "pygments_lexer": "ipython3",
   "version": "3.5.2"
  }
 },
 "nbformat": 4,
 "nbformat_minor": 4
}
