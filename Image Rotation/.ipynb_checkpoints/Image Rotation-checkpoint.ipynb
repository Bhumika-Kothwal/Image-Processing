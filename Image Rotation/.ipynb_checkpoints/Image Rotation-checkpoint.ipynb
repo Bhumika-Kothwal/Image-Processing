{
 "cells": [
  {
   "cell_type": "code",
   "execution_count": 24,
   "metadata": {},
   "outputs": [],
   "source": [
    "from PIL import Image\n",
    "import numpy as np\n",
    "import math"
   ]
  },
  {
   "cell_type": "code",
   "execution_count": 25,
   "metadata": {},
   "outputs": [],
   "source": [
    "# rotation using PIL module\n",
    "image = Image.open(\"rotate.png\")\n",
    "image.show()\n",
    "\n",
    "rotate_90 = image.rotate(90)\n",
    "rotate_90.show()\n",
    "\n",
    "rotate_180 = image.rotate(180)\n",
    "rotate_180.show()"
   ]
  },
  {
   "cell_type": "code",
   "execution_count": 26,
   "metadata": {},
   "outputs": [
    {
     "name": "stdout",
     "output_type": "stream",
     "text": [
      "image 3D array =  (322, 600, 4)\n",
      "90 degree rotated 3D array =  (600, 322, 4)\n",
      "180 degree rotated 3D array =  (322, 600, 4)\n"
     ]
    }
   ],
   "source": [
    "# rotation using numpy module\n",
    "im_array = np.array(Image.open('rotate.png'))\n",
    "print(\"image 3D array = \" , im_array.shape)\n",
    "\n",
    "rotate_90 = np.rot90(image)\n",
    "print(\"90 degree rotated 3D array = \", rotate_90.shape)\n",
    "rotate_90 = Image.fromarray(rotate_90)\n",
    "rotate_90.show()\n",
    "\n",
    "rotate_180 = np.rot90(rotate_90)\n",
    "print(\"180 degree rotated 3D array = \", rotate_180.shape)\n",
    "rotate_180 = Image.fromarray(rotate_180)\n",
    "rotate_180.show()"
   ]
  },
  {
   "cell_type": "code",
   "execution_count": 27,
   "metadata": {},
   "outputs": [
    {
     "name": "stdout",
     "output_type": "stream",
     "text": [
      "Shape of image array =  (322, 600, 4)\n",
      "Enter the rotation angle = 60\n"
     ]
    }
   ],
   "source": [
    "# without using inbuilt functions\n",
    "array = np.array(Image.open('rotate.png'))\n",
    "print(\"Shape of image array = \", array.shape)\n",
    "\n",
    "deg_angle = int(input(\"Enter the rotation angle = \"))\n",
    "angle = math.radians(deg_angle)\n",
    "\n",
    "d = array.shape[0]\n",
    "h = array.shape[1]\n",
    "w = array.shape[2]\n",
    "min_new_x = 0\n",
    "max_new_x = 0\n",
    "min_new_y = 0\n",
    "max_new_y = 0\n",
    "min_new_z = 0\n",
    "max_new_z = 0\n",
    "\n",
    "# list for finding new coordinates for given angle\n",
    "new_coordinates = []\n",
    "\n",
    "for z in range(d):\n",
    "    for y in range(h):\n",
    "        for x in range(w):\n",
    "            new_x = int(round(x))\n",
    "            new_y = int(round(y*math.cos(angle) + z*math.sin(angle)))\n",
    "            new_z = int(round(-y*math.sin(angle) + z*math.cos(angle)))\n",
    "        \n",
    "            val = im_array[z][y][x]\n",
    "            new_coordinates.append((val, new_x, new_y, new_z))\n",
    "            \n",
    "            if new_x < min_new_x: \n",
    "                min_new_x = new_x\n",
    "            if new_x > max_new_x: \n",
    "                max_new_x = new_x\n",
    "            if new_y < min_new_y: \n",
    "                min_new_y = new_y\n",
    "            if new_y > max_new_y: \n",
    "                max_new_y = new_y\n",
    "            if new_z < min_new_z: \n",
    "                min_new_z = new_z\n",
    "            if new_z > max_new_z: \n",
    "                max_new_z = new_z\n",
    "\n",
    "\n",
    "new_width = max_new_x - min_new_x\n",
    "new_height = max_new_y - min_new_y\n",
    "new_depth = max_new_z - min_new_z\n",
    "\n",
    "rotated = np.empty((new_depth + 1, new_height + 1, new_width + 1))\n",
    "rotated.fill(0)\n",
    "x_offset = abs(min_new_x)\n",
    "y_offset = abs(min_new_y)\n",
    "z_offset = abs(min_new_z)\n",
    "\n",
    "for c in new_coordinates:\n",
    "    val = c[0]\n",
    "    x = c[1]\n",
    "    y = c[2]\n",
    "    z = c[3]\n",
    "    rotated[z_offset + z][y_offset + y][x_offset + x] = val\n",
    "\n",
    "img = Image.fromarray(np.uint8(rotated))\n",
    "img.show()"
   ]
  },
  {
   "cell_type": "code",
   "execution_count": null,
   "metadata": {},
   "outputs": [],
   "source": []
  },
  {
   "cell_type": "code",
   "execution_count": null,
   "metadata": {},
   "outputs": [],
   "source": []
  }
 ],
 "metadata": {
  "kernelspec": {
   "display_name": "Python 3",
   "language": "python",
   "name": "python3"
  },
  "language_info": {
   "codemirror_mode": {
    "name": "ipython",
    "version": 3
   },
   "file_extension": ".py",
   "mimetype": "text/x-python",
   "name": "python",
   "nbconvert_exporter": "python",
   "pygments_lexer": "ipython3",
   "version": "3.5.2"
  }
 },
 "nbformat": 4,
 "nbformat_minor": 4
}
