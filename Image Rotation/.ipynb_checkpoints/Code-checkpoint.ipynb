{
 "cells": [
  {
   "cell_type": "code",
   "execution_count": null,
   "metadata": {},
   "outputs": [],
   "source": [
    "from PIL import Image\n",
    "import numpy as np\n",
    "import math\n",
    "import matplotlib.pyplot as plt"
   ]
  },
  {
   "cell_type": "markdown",
   "metadata": {},
   "source": [
    "## Using PIL inbuilt function"
   ]
  },
  {
   "cell_type": "code",
   "execution_count": null,
   "metadata": {},
   "outputs": [],
   "source": [
    "# rotation using PIL module\n",
    "image = Image.open(\"rotate.png\")\n",
    "image.show()\n",
    "\n",
    "rotate_90 = image.rotate(90)\n",
    "rotate_90.show()\n",
    "\n",
    "rotate_180 = image.rotate(180)\n",
    "rotate_180.show()"
   ]
  },
  {
   "cell_type": "markdown",
   "metadata": {},
   "source": [
    "## Using Numpy inbuilt function"
   ]
  },
  {
   "cell_type": "code",
   "execution_count": null,
   "metadata": {},
   "outputs": [],
   "source": [
    "# rotation using numpy module\n",
    "im_array = np.array(Image.open('rotate.png'))\n",
    "print(\"image 3D array = \" , im_array.shape)\n",
    "\n",
    "rotate_90 = np.rot90(image)\n",
    "print(\"90 degree rotated 3D array = \", rotate_90.shape)\n",
    "rotate_90 = Image.fromarray(rotate_90)\n",
    "rotate_90.show()\n",
    "\n",
    "rotate_180 = np.rot90(rotate_90)\n",
    "print(\"180 degree rotated 3D array = \", rotate_180.shape)\n",
    "rotate_180 = Image.fromarray(rotate_180)\n",
    "rotate_180.show()"
   ]
  },
  {
   "cell_type": "markdown",
   "metadata": {},
   "source": [
    "## Without using inbuilt function"
   ]
  },
  {
   "cell_type": "code",
   "execution_count": null,
   "metadata": {},
   "outputs": [],
   "source": [
    "# without using inbuilt functions\n",
    "image = Image.open(\"rotate.png\")\n",
    "array = np.array(Image.open('rotate.png'))\n",
    "print(\"Shape of image array = \", array.shape)\n",
    "\n",
    "deg_angle = int(input(\"Enter the rotation angle = \"))\n",
    "angle = math.radians(deg_angle)\n",
    "\n",
    "h = array.shape[0]\n",
    "w = array.shape[1]\n",
    "\n",
    "min_new_x = 0\n",
    "max_new_x = 0\n",
    "min_new_y = 0\n",
    "max_new_y = 0\n",
    "\n",
    "# list for finding new coordinates for given angle\n",
    "new_coordinates = []\n",
    "\n",
    "'''\n",
    "Rotation matrix :\n",
    "[\n",
    " [cos(theta) -sin(theta)]\n",
    " [sin(theta)  cos(theta)]\n",
    "]\n",
    "'''\n",
    "for x in range(h):\n",
    "    for y in range(w):\n",
    "            new_x = int(round(x*math.cos(angle) - y*math.sin(angle)))\n",
    "            new_y = int(round(x*math.sin(angle) + y*math.cos(angle)))\n",
    "        \n",
    "            val = array[x][y][:]\n",
    "            new_coordinates.append((val, new_x, new_y))\n",
    "            \n",
    "            if new_x < min_new_x: \n",
    "                min_new_x = new_x\n",
    "            if new_x > max_new_x: \n",
    "                max_new_x = new_x\n",
    "            if new_y < min_new_y: \n",
    "                min_new_y = new_y\n",
    "            if new_y > max_new_y: \n",
    "                max_new_y = new_y\n",
    "\n",
    "new_height = max_new_x - min_new_x\n",
    "new_width = max_new_y - min_new_y\n",
    "\n",
    "rotated = np.empty((new_height + 1, new_width + 1, 4))\n",
    "rotated.fill(0)\n",
    "\n",
    "x_offset = abs(min_new_x)\n",
    "y_offset = abs(min_new_y)\n",
    "\n",
    "for c in new_coordinates:\n",
    "    val = c[0]\n",
    "    x = c[1]\n",
    "    y = c[2]\n",
    "    if (rotated[x_offset + x][y_offset + y][0] == 0) & (rotated[x_offset + x][y_offset + y][1] == 0) & (rotated[x_offset + x][y_offset + y][2] == 0) & (rotated[x_offset + x][y_offset + y][3] == 0):\n",
    "        rotated[x_offset + x][y_offset + y][0] = val[0]\n",
    "        rotated[x_offset + x][y_offset + y][1] = val[1]\n",
    "        rotated[x_offset + x][y_offset + y][2] = val[2]\n",
    "        rotated[x_offset + x][y_offset + y][3] = val[3]\n",
    "\n",
    "# filling the void spaces in btw the image with previous value of the same width level\n",
    "for i in range(rotated.shape[0]):\n",
    "    prev = [rotated[i][0][0], rotated[i][0][1], rotated[i][0][2], rotated[i][0][3]]\n",
    "    for j in range(rotated.shape[1]-1):\n",
    "        # to find void space\n",
    "        if (not any(rotated[i][j][:])) and (any(rotated[i][j+1][:])):\n",
    "            rotated[i][j][:] = prev\n",
    "        else:\n",
    "            prev = rotated[i][j][:]\n",
    "\n",
    "img = Image.fromarray(np.uint8(rotated))\n",
    "img.save(\"rotated_66.png\")\n",
    "plt.imshow(img,cmap='gray')"
   ]
  },
  {
   "cell_type": "code",
   "execution_count": null,
   "metadata": {},
   "outputs": [],
   "source": [
    "image.show()"
   ]
  },
  {
   "cell_type": "code",
   "execution_count": null,
   "metadata": {},
   "outputs": [],
   "source": []
  }
 ],
 "metadata": {
  "kernelspec": {
   "display_name": "Python 3.5.2 64-bit",
   "language": "python",
   "name": "python35264bitaa005c2fc2c34d758049473a254b057e"
  },
  "language_info": {
   "codemirror_mode": {
    "name": "ipython",
    "version": 3
   },
   "file_extension": ".py",
   "mimetype": "text/x-python",
   "name": "python",
   "nbconvert_exporter": "python",
   "pygments_lexer": "ipython3",
   "version": "3.5.2"
  }
 },
 "nbformat": 4,
 "nbformat_minor": 4
}
